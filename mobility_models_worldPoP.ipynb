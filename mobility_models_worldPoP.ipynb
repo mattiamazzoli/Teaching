{
 "cells": [
  {
   "cell_type": "code",
   "execution_count": null,
   "id": "93f514fb-ea1b-4e22-9c24-5a160111e35d",
   "metadata": {},
   "outputs": [],
   "source": [
    "from matplotlib import *\n",
    "from __future__ import division\n",
    "%matplotlib inline\n",
    "import pandas as pd\n",
    "import numpy as np\n",
    "import csv\n",
    "from matplotlib import pyplot as plt\n",
    "import pyproj\n",
    "from sklearn.metrics.pairwise import pairwise_distances\n",
    "\n"
   ]
  },
  {
   "cell_type": "markdown",
   "id": "27606ac7",
   "metadata": {},
   "source": [
    "## create fake populations and distances"
   ]
  },
  {
   "cell_type": "code",
   "execution_count": null,
   "id": "b7b615fb",
   "metadata": {},
   "outputs": [],
   "source": [
    "\n",
    "# Sample Data: Population of locations (Replace with WorldPop data)\n",
    "locations = ['A', 'B', 'C', 'D', 'E']\n",
    "population = [10000, 5000, 20000, 15000, 12000]\n",
    "distances = {\n",
    "    ('A', 'B'): 10, ('A', 'C'): 30, ('A', 'D'): 50, ('A', 'E'): 70,\n",
    "    ('B', 'C'): 20, ('B', 'D'): 40, ('B', 'E'): 60,\n",
    "    ('C', 'D'): 15, ('C', 'E'): 35,\n",
    "    ('D', 'E'): 25\n",
    "}\n",
    "\n",
    "# Convert to DataFrame\n",
    "pop_df = pd.DataFrame({'Location': locations, 'Population': population})\n",
    "dist_df = pd.DataFrame([(k[0], k[1], v) for k, v in distances.items()], columns=['From', 'To', 'Distance'])\n",
    "\n"
   ]
  },
  {
   "cell_type": "markdown",
   "id": "89870162",
   "metadata": {},
   "source": [
    "## Build your Gravity Model "
   ]
  },
  {
   "cell_type": "markdown",
   "id": "839f21ec",
   "metadata": {},
   "source": [
    "The number of trips occurring from i to j are inversely proportional to the distance that divides i and j and where masses of origin and destination are the respective populations.\n",
    "\n",
    "\n",
    "The form with the power law deterrence functions is written as:  \n",
    "$\\Large T_{ij} = K \\frac{m_i^\\alpha m_j^\\beta}{d^\\gamma}$\n",
    "\n",
    "The form with the exponential deterrence functions is written as:  \n",
    "$\\Large T_{ij} = K m_i^\\alpha m_j^\\beta e^{-d/d_0}$\n",
    "\n",
    "\n",
    "where $\\alpha$ and $\\beta$ modulate the attractiveness of masses  \n",
    "$\\gamma$ regulates the decay of the gravity force with distance  \n",
    "and $d_0$ represents the typical distance travelled by individuals"
   ]
  },
  {
   "cell_type": "markdown",
   "id": "038ebfda",
   "metadata": {},
   "source": [
    "### create a table containing the two gravity models predicted flows between i and j"
   ]
  },
  {
   "cell_type": "code",
   "execution_count": null,
   "id": "eb9bf49b",
   "metadata": {},
   "outputs": [],
   "source": [
    "\n",
    "def gravity_model(pop_df, dist_df, alpha=1, beta=1):\n",
    "    flows = []\n",
    "    for _, row in dist_df.iterrows():\n",
    "        \n",
    "    dist_df['Gravity Flow PL'] = flows\n",
    "    return dist_df\n",
    "\n",
    "def gravity_model_exp(pop_df, dist_df, alpha=1, beta=1):\n",
    "    flows = []\n",
    "    for _, row in dist_df.iterrows():\n",
    "        \n",
    "    dist_df['Gravity Flow Exp'] = flows\n",
    "    return dist_df\n",
    "\n",
    "alpha=1\n",
    "beta=1\n",
    "d0=5\n",
    "gravity_results = gravity_model(pop_df, dist_df)\n",
    "gravity_results = gravity_model_exp(pop_df, dist_df)\n",
    "\n",
    "print(\"Gravity Model Results:\")\n",
    "print(gravity_results)\n"
   ]
  },
  {
   "cell_type": "markdown",
   "id": "c96163e8",
   "metadata": {},
   "source": [
    "## Build your Radiation Model"
   ]
  },
  {
   "cell_type": "markdown",
   "id": "d97b9a99",
   "metadata": {},
   "source": [
    "The number of trips occurring from i to j is controlled by the formula\n",
    "\n",
    "\n",
    "$\\Large T_{ij} = T_i \\frac{(m_i m_j)}{(m_i + s_{ij})(m_i + m_j + s_{ij})}$\n",
    "\n",
    "\n",
    "\n",
    "\n",
    "where $m_i$ and $m_j$ are the populations of i and j and $s_{ij}$ is the intervening population\n"
   ]
  },
  {
   "cell_type": "markdown",
   "id": "47c4061b",
   "metadata": {},
   "source": [
    "### Add the radiation model predicted flows to the table of results   \n",
    "assume Ti = population_i"
   ]
  },
  {
   "cell_type": "code",
   "execution_count": null,
   "id": "d00fcedf",
   "metadata": {},
   "outputs": [],
   "source": [
    "\n",
    "def radiation_model(pop_df, dist_df):\n",
    "    flows = []\n",
    "    for _, row in dist_df.iterrows():\n",
    "        \n",
    "    dist_df['Radiation Flow'] = flows\n",
    "    return dist_df\n",
    "\n",
    "radiation_results = radiation_model(pop_df, dist_df)\n",
    "print(\"\\nRadiation Model Results:\")\n",
    "print(radiation_results)\n"
   ]
  },
  {
   "cell_type": "markdown",
   "id": "5fe89a45",
   "metadata": {},
   "source": [
    "## Now generate flows from population distribution from WorldPop in Turin"
   ]
  },
  {
   "cell_type": "markdown",
   "id": "772033d1",
   "metadata": {},
   "source": [
    "### Get data from WorldPop https://hub.worldpop.org/geodata/summary?id=36916"
   ]
  },
  {
   "cell_type": "code",
   "execution_count": null,
   "id": "3880a77a",
   "metadata": {},
   "outputs": [],
   "source": [
    "worldpop_df0 = pd.read_csv('ppp_ITA_2020_1km_Aggregated_UNadj.csv')\n",
    "print(len(worldpop_df0))\n",
    "\n",
    "plt.scatter(worldpop_df0.X,worldpop_df0.Y,c=np.log(worldpop_df0.Z+1), cmap=cm.viridis, s=.02, marker='s')\n",
    "plt.gca().set_aspect('equal')\n",
    "\n",
    "plt.axis('off')"
   ]
  },
  {
   "cell_type": "markdown",
   "id": "b353d8fb",
   "metadata": {},
   "source": [
    "## Let's focus on Turin"
   ]
  },
  {
   "cell_type": "code",
   "execution_count": null,
   "id": "61bf2755",
   "metadata": {},
   "outputs": [],
   "source": [
    "x0 = 7.61000\n",
    "x1 = 7.7100\n",
    "y0 = 45.0200\n",
    "y1 = 45.12322\n",
    "\n",
    "worldpop_df = worldpop_df0[(worldpop_df0.X<x1)&(worldpop_df0.X>x0)&(worldpop_df0.Y<y1)&(worldpop_df0.Y>y0)]\n",
    "print(len(worldpop_df))\n",
    "\n",
    "#project to mercator\n",
    "P = pyproj.Proj(proj='utm', zone=31, ellps='WGS84', preserve_units=True)\n",
    "worldpop_df['x'] = P(worldpop_df.X,worldpop_df.Y)[0]-P(x0,45)[0]\n",
    "worldpop_df['y'] = P(worldpop_df.X,worldpop_df.Y)[1]-P(6,y0)[1]\n",
    "\n",
    "\n",
    "# Sample Data: Population of locations (Replace with WorldPop data)\n",
    "locations = worldpop_df.index.tolist()\n",
    "population = worldpop_df['Z'].tolist()\n",
    "\n",
    "distances = pairwise_distances(worldpop_df[['x','y']], metric='euclidean')\n",
    "\n",
    "plt.scatter(worldpop_df.X,worldpop_df.Y,c=worldpop_df.Z, cmap=cm.viridis, s=395, marker='s')\n",
    "plt.gca().set_aspect('equal')"
   ]
  },
  {
   "cell_type": "code",
   "execution_count": null,
   "id": "2457d755",
   "metadata": {},
   "outputs": [],
   "source": [
    "# Convert to DataFrame\n",
    "pop_df = pd.DataFrame({'Location': locations, 'Population': population})\n",
    "pop_dict = pop_df.set_index('Location')['Population'].to_dict()\n",
    "dist_df = pd.DataFrame(distances, index=locations, columns=locations)"
   ]
  },
  {
   "cell_type": "code",
   "execution_count": null,
   "id": "2bf14f82",
   "metadata": {},
   "outputs": [],
   "source": [
    "distance_df = dist_df.unstack().reset_index()\n",
    "distance_df = distance_df.rename(columns={'level_0':'origin','level_1':'destination',0:'distance'})"
   ]
  },
  {
   "cell_type": "code",
   "execution_count": null,
   "id": "814ebf37",
   "metadata": {},
   "outputs": [],
   "source": [
    "distance_df['pop orig'] = distance_df['origin'].apply(lambda x: pop_dict[x])\n",
    "distance_df['pop dest'] = distance_df['destination'].apply(lambda x: pop_dict[x])\n",
    "\n",
    "distance_df = distance_df[(distance_df['pop orig']>0) & (distance_df['pop dest']>0)]"
   ]
  },
  {
   "cell_type": "code",
   "execution_count": null,
   "id": "88feb7c1",
   "metadata": {},
   "outputs": [],
   "source": [
    "distance_df.head()"
   ]
  },
  {
   "cell_type": "markdown",
   "id": "c438e0d3",
   "metadata": {},
   "source": [
    "### Use your gravity model to generate flows with the WorldPop data  \n",
    "use the distance_df"
   ]
  },
  {
   "cell_type": "code",
   "execution_count": null,
   "id": "a7403d36",
   "metadata": {},
   "outputs": [],
   "source": [
    "\n",
    "# Gravity Model Function\n",
    "alpha=1\n",
    "beta=1\n",
    "gamma=2\n",
    "d0=200 #meters\n",
    "def Gravity_pow(x, y, d, alpha, beta, gamma):\n",
    "    return \n",
    "\n",
    "def Gravity_exp(x, y, d, alpha, beta, d0):\n",
    "    return \n",
    "\n",
    "distance_df['gravity model pow'] = distance_df[...\n",
    "distance_df['gravity model exp'] = distance_df[...\n",
    "                                               \n",
    "distance_df.replace([np.inf, -np.inf], np.nan, inplace=True)"
   ]
  },
  {
   "cell_type": "markdown",
   "id": "fccf50fe",
   "metadata": {},
   "source": [
    "### Use your radiation model to generate flows with the WorldPop data"
   ]
  },
  {
   "cell_type": "code",
   "execution_count": null,
   "id": "97dcbdbe",
   "metadata": {},
   "outputs": [],
   "source": [
    "def get_s(origin,destination):\n",
    "    df_orig = distance_df[(distance_df.origin==origin)]\n",
    "    distance = distance_df[(distance_df.origin==origin)&(distance_df.destination==destination)].distance.values[0]\n",
    "    loc_s = set(df_orig[df_orig['distance']<distance]['destination'].values)\n",
    "    pop_s = pop_df[pop_df.Location.isin(loc_s)]['Population'].sum()\n",
    "    return pop_s\n",
    "        \n",
    "    \n",
    "pops_s = []\n",
    "for i in distance_df.origin.unique():\n",
    "    print(i)\n",
    "    for j in distance_df.destination.unique():\n",
    "        if j>=i:\n",
    "            pops_s.append([i,j,get_s(i,j)])\n",
    "            pops_s.append([j,i,get_s(i,j)])"
   ]
  },
  {
   "cell_type": "markdown",
   "id": "0b22ade2",
   "metadata": {},
   "source": [
    "#### merge the intervening population s into the distance dataframe"
   ]
  },
  {
   "cell_type": "code",
   "execution_count": null,
   "id": "a56e5768",
   "metadata": {},
   "outputs": [],
   "source": [
    "pop_s = pd.DataFrame(pops_s, columns=['origin','destination','s'])"
   ]
  },
  {
   "cell_type": "code",
   "execution_count": null,
   "id": "c01f7150",
   "metadata": {},
   "outputs": [],
   "source": [
    "new_df = pd.merge(\n",
    "    left=distance_df, \n",
    "    right=pop_s,\n",
    "    how='left',\n",
    "    left_on=['origin', 'destination'],\n",
    "    right_on=['origin', 'destination']\n",
    ")"
   ]
  },
  {
   "cell_type": "code",
   "execution_count": null,
   "id": "78dc8ea5",
   "metadata": {},
   "outputs": [],
   "source": [
    "\n",
    "# Radiation Model Function\n",
    "def radiation_model(pop_i, pop_j, pop_s):\n",
    "    return ...\n",
    "        \n",
    "\n",
    "new_df['Radiation model'] = new_df[...\n"
   ]
  },
  {
   "cell_type": "code",
   "execution_count": null,
   "id": "7f1c0a09",
   "metadata": {},
   "outputs": [],
   "source": [
    "new_df.head()"
   ]
  },
  {
   "cell_type": "markdown",
   "id": "ea6e10ab",
   "metadata": {},
   "source": [
    "### Check if scikit-mobility fits the parameters you used in the Gravity models"
   ]
  },
  {
   "cell_type": "code",
   "execution_count": null,
   "id": "6d5fe986",
   "metadata": {},
   "outputs": [],
   "source": [
    "import skmob\n",
    "from skmob.utils import utils, constants\n",
    "import geopandas as gpd\n",
    "from skmob.models import gravity"
   ]
  },
  {
   "cell_type": "markdown",
   "id": "ff097ef7",
   "metadata": {},
   "source": [
    "#### scikit data structure wants a geopandas geometry to compute distances in lat, lon"
   ]
  },
  {
   "cell_type": "code",
   "execution_count": null,
   "id": "80b113c8",
   "metadata": {},
   "outputs": [],
   "source": [
    "gdf = gpd.GeoDataFrame(worldpop_df, geometry=gpd.points_from_xy(worldpop_df['X'], worldpop_df['Y']))\n",
    "gdf = gdf.reset_index().rename(columns={'Z':'population','index':'tile_ID'})\n",
    "gdf"
   ]
  },
  {
   "cell_type": "markdown",
   "id": "3f4b4b85",
   "metadata": {},
   "source": [
    "### define dataframe with only columns: origin, destination, flow "
   ]
  },
  {
   "cell_type": "code",
   "execution_count": null,
   "id": "2163864e",
   "metadata": {},
   "outputs": [],
   "source": [
    "flow_df = new_df[['origin','destination','gravity model exp']].rename(columns={'gravity model exp':'flow'})\n",
    "\n",
    "# load data about mobility flows into a FlowDataFrame\n",
    "fdf = skmob.FlowDataFrame(flow_df,tessellation=gdf, tile_id='tile_ID')\n"
   ]
  },
  {
   "cell_type": "markdown",
   "id": "6555d577",
   "metadata": {},
   "source": [
    "### Check if scikit-mobility finds the correct parameters you used to generate the flows with the Gravity models  \n",
    "use the examples in the notebook mobility_models in the repository"
   ]
  },
  {
   "cell_type": "code",
   "execution_count": null,
   "id": "fe61597e",
   "metadata": {},
   "outputs": [],
   "source": [
    "# fit the parameters of the Gravity model from real fluxes\n",
    "gravity_fit_exp = gravity.Gravity(...\n",
    "print(gravity_fit_exp)"
   ]
  },
  {
   "cell_type": "code",
   "execution_count": null,
   "id": "e2a0b610",
   "metadata": {},
   "outputs": [],
   "source": [
    "fdf.head()"
   ]
  },
  {
   "cell_type": "code",
   "execution_count": null,
   "id": "3c781632",
   "metadata": {},
   "outputs": [],
   "source": [
    "# fit the parameters of the Gravity model from real fluxes\n",
    "gravity_fit_exp.fit(fdf, relevance_column='population')\n",
    "print(gravity_fit_exp)\n"
   ]
  },
  {
   "cell_type": "markdown",
   "id": "d66c1b4c",
   "metadata": {},
   "source": [
    "the parameter \"deterrence function\" is the exponent d0 of the exponential function, origin and destination exp are the alpha and beta parameters above"
   ]
  },
  {
   "cell_type": "code",
   "execution_count": null,
   "id": "0bc719a9",
   "metadata": {},
   "outputs": [],
   "source": []
  }
 ],
 "metadata": {
  "kernelspec": {
   "display_name": "Python 3 (ipykernel)",
   "language": "python",
   "name": "python3"
  },
  "language_info": {
   "codemirror_mode": {
    "name": "ipython",
    "version": 3
   },
   "file_extension": ".py",
   "mimetype": "text/x-python",
   "name": "python",
   "nbconvert_exporter": "python",
   "pygments_lexer": "ipython3",
   "version": "3.10.11"
  }
 },
 "nbformat": 4,
 "nbformat_minor": 5
}
