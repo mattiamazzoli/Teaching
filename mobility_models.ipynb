{
 "cells": [
  {
   "cell_type": "code",
   "execution_count": null,
   "id": "93f514fb-ea1b-4e22-9c24-5a160111e35d",
   "metadata": {},
   "outputs": [],
   "source": [
    "from matplotlib import *\n",
    "from __future__ import division\n",
    "%matplotlib inline\n",
    "import pandas as pd\n",
    "import numpy as np\n",
    "import csv\n",
    "from matplotlib import pyplot as plt\n",
    "import skmob\n",
    "from skmob.utils import utils, constants\n",
    "import geopandas as gpd\n",
    "from skmob.models.epr import DensityEPR\n",
    "import shapely\n",
    "import warnings\n",
    "from shapely.errors import ShapelyDeprecationWarning\n",
    "warnings.filterwarnings(\"ignore\", category=ShapelyDeprecationWarning) \n",
    "from scipy.stats import linregress, spearmanr, chi2\n"
   ]
  },
  {
   "cell_type": "code",
   "execution_count": null,
   "id": "343ad94f",
   "metadata": {
    "scrolled": true
   },
   "outputs": [],
   "source": [
    "pip install scikit-mobility"
   ]
  },
  {
   "cell_type": "markdown",
   "id": "06e2b1eb",
   "metadata": {},
   "source": [
    "## get the data"
   ]
  },
  {
   "cell_type": "code",
   "execution_count": null,
   "id": "71e7ef3e-5c00-4124-a85c-18ff44333bfd",
   "metadata": {},
   "outputs": [],
   "source": [
    "url = skmob.utils.constants.NY_COUNTIES_2011\n",
    "tessellation = gpd.read_file(url).rename(columns={'tile_id': 'tile_ID'})\n",
    "\n",
    "tessellation.plot(facecolor='w',edgecolor='grey', lw=0.2)\n",
    "plt.axis('off')"
   ]
  },
  {
   "cell_type": "code",
   "execution_count": null,
   "id": "e7abd4ec",
   "metadata": {},
   "outputs": [],
   "source": [
    "# load data about mobility flows into a FlowDataFrame\n",
    "fdf = skmob.FlowDataFrame.from_file(skmob.utils.constants.NY_FLOWS_2011,\n",
    "                                        tessellation=tessellation,\n",
    "                                        tile_id='tile_ID',\n",
    "                                        sep=\",\")\n",
    "\n",
    "print(fdf.head())"
   ]
  },
  {
   "cell_type": "markdown",
   "id": "8d4d71ad",
   "metadata": {},
   "source": [
    "### plot the empirical flows"
   ]
  },
  {
   "cell_type": "code",
   "execution_count": null,
   "id": "660206d2",
   "metadata": {},
   "outputs": [],
   "source": [
    "for line in fdf.iterrows():\n",
    "    orig = line[1].origin\n",
    "    dest = line[1].destination\n",
    "    flow = line[1].flow / 100000\n",
    "    #print(flow)\n",
    "    x1 = points[orig].x\n",
    "    y1 = points[orig].y\n",
    "    x2 = points[dest].x\n",
    "    y2 = points[dest].y\n",
    "    plt.plot([x1,x2],[y1, y2], '#c1121f',linewidth=flow)\n",
    "    \n",
    "plt.axis('off')"
   ]
  },
  {
   "cell_type": "markdown",
   "id": "d58ea866",
   "metadata": {},
   "source": [
    "## build the Gravity model"
   ]
  },
  {
   "cell_type": "code",
   "execution_count": null,
   "id": "91c54fdb",
   "metadata": {},
   "outputs": [],
   "source": [
    "from skmob.models import gravity\n",
    "\n",
    "#build the centroids dictionary\n",
    "tessellation = gpd.read_file(url).rename(columns={'tile_id': 'tile_ID'})\n",
    "tessellation['center'] = tessellation.centroid\n",
    "points = dict(zip(tessellation.tile_ID,tessellation.center))\n",
    "\n",
    "# compute the total outflows from each location of the tessellation (excluding self loops)\n",
    "tot_outflows = fdf.groupby(by='origin', axis=0)[['flow']].sum().fillna(0)\n",
    "\n",
    "tessellation = tessellation.merge(tot_outflows, left_on='tile_ID', right_on='origin').rename(columns={'flow': constants.TOT_OUTFLOW})\n",
    "\n",
    "# instantiate a singly constrained Gravity model\n",
    "gravity_singly = gravity.Gravity(gravity_type='singly constrained')\n",
    "\n",
    "# instantiate a globally constrained Gravity model\n",
    "gravity_doubly = gravity.Gravity(gravity_type='globally constrained')\n",
    "\n",
    "print(gravity_singly)\n"
   ]
  },
  {
   "cell_type": "markdown",
   "id": "7be28c75",
   "metadata": {},
   "source": [
    "### fit gravity model with exponential deterrence function"
   ]
  },
  {
   "cell_type": "code",
   "execution_count": null,
   "id": "5b770dc9",
   "metadata": {},
   "outputs": [],
   "source": [
    "# fit the parameters of the Gravity model from real fluxes\n",
    "gravity_fit_exp = gravity.Gravity(gravity_type='globally constrained',deterrence_func_type=\"exponential\")\n",
    "print(gravity_fit_exp)\n",
    "gravity_fit_exp.fit(fdf, relevance_column='population')\n",
    "\n",
    "synth_fdf_exp = gravity_fit_exp.generate(tessellation,\n",
    "                                        tile_id_column='tile_ID',\n",
    "                                        tot_outflows_column='tot_outflow',\n",
    "                                        relevance_column= 'population',\n",
    "                                        out_format='flows')\n",
    "print(synth_fdf_exp.head())\n"
   ]
  },
  {
   "cell_type": "code",
   "execution_count": null,
   "id": "be124fab",
   "metadata": {},
   "outputs": [],
   "source": [
    "### check the fitted params\n",
    "print(gravity_fit_exp)"
   ]
  },
  {
   "cell_type": "markdown",
   "id": "72faa80e",
   "metadata": {},
   "source": [
    "### fit gravity model with power law deterrence function"
   ]
  },
  {
   "cell_type": "code",
   "execution_count": null,
   "id": "f27e1442",
   "metadata": {},
   "outputs": [],
   "source": [
    "# fit the parameters of the Gravity model from real fluxes\n",
    "gravity_fit_pow = gravity.Gravity(gravity_type='globally constrained',deterrence_func_type=\"power law\")\n",
    "print(gravity_fit_pow)\n",
    "gravity_fit_pow.fit(fdf, relevance_column='population')\n",
    "\n",
    "synth_fdf_pow = gravity_fit_pow.generate(tessellation,\n",
    "                                        tile_id_column='tile_ID',\n",
    "                                        tot_outflows_column='tot_outflow',\n",
    "                                        relevance_column= 'population',\n",
    "                                        out_format='flows')\n",
    "print(synth_fdf_pow.head())\n"
   ]
  },
  {
   "cell_type": "code",
   "execution_count": null,
   "id": "b280703e",
   "metadata": {},
   "outputs": [],
   "source": [
    "### check the fitted params\n",
    "print(gravity_fit_pow)"
   ]
  },
  {
   "cell_type": "markdown",
   "id": "88780b04",
   "metadata": {},
   "source": [
    "### plot the  fitted gravity model flows"
   ]
  },
  {
   "cell_type": "code",
   "execution_count": null,
   "id": "d63f03c9",
   "metadata": {},
   "outputs": [],
   "source": [
    "fig,axes = plt.subplots(ncols=3,nrows=1,figsize=(12,4))\n",
    "ax=axes.flat[0]\n",
    "for line in fdf.iterrows():\n",
    "    orig = line[1].origin\n",
    "    dest = line[1].destination\n",
    "    flow = line[1].flow / 100000\n",
    "    #print(flow)\n",
    "    x1 = points[orig].x\n",
    "    y1 = points[orig].y\n",
    "    x2 = points[dest].x\n",
    "    y2 = points[dest].y\n",
    "    ax.plot([x1,x2],[y1, y2], '#c1121f',linewidth=flow)\n",
    "    ax.set_title('data')\n",
    "    ax.axis('off')\n",
    "    \n",
    "ax=axes.flat[1]\n",
    "for line in synth_fdf_exp.iterrows():\n",
    "    orig = line[1].origin\n",
    "    dest = line[1].destination\n",
    "    flow = line[1].flow / 100000\n",
    "    #print(flow)\n",
    "    x1 = points[orig].x\n",
    "    y1 = points[orig].y\n",
    "    x2 = points[dest].x\n",
    "    y2 = points[dest].y\n",
    "    ax.plot([x1,x2],[y1, y2], '#c1121f',linewidth=flow)\n",
    "    ax.set_title('exp')\n",
    "    ax.axis('off')\n",
    "\n",
    "ax=axes.flat[2]\n",
    "for line in synth_fdf_pow.iterrows():\n",
    "    orig = line[1].origin\n",
    "    dest = line[1].destination\n",
    "    flow = line[1].flow / 100000\n",
    "    #print(flow)\n",
    "    x1 = points[orig].x\n",
    "    y1 = points[orig].y\n",
    "    x2 = points[dest].x\n",
    "    y2 = points[dest].y\n",
    "    ax.plot([x1,x2],[y1, y2], '#c1121f',linewidth=flow)\n",
    "    ax.set_title('pow')\n",
    "    ax.axis('off')\n"
   ]
  },
  {
   "cell_type": "code",
   "execution_count": null,
   "id": "f7a6b7a5",
   "metadata": {},
   "outputs": [],
   "source": [
    "#fill missing routes from the original dataset, set them to 0\n",
    "places = set(fdf.origin.unique()).union(fdf.destination.unique())\n",
    "\n",
    "missing_flows = []\n",
    "for ori in places:\n",
    "    for dest in places:\n",
    "        if ((fdf['origin'] == ori) & (fdf['destination'] == dest)).any() == False:\n",
    "            missing_flows.append([0,ori,dest])\n",
    "\n",
    "#remove internal mobility\n",
    "fdf_base = fdf[fdf.origin!=fdf.destination]\n",
    "synth_fdf_exp = synth_fdf_exp[synth_fdf_exp.origin!=synth_fdf_exp.destination]\n",
    "synth_fdf_pow = synth_fdf_pow[synth_fdf_pow.origin!=synth_fdf_pow.destination]\n",
    "\n",
    "#add missing routes to original dataset for comparison\n",
    "nr = pd.DataFrame(missing_flows,columns=['flow', 'origin', 'destination'])\n",
    "fdf_new = pd.concat([fdf_base, nr])\n"
   ]
  },
  {
   "cell_type": "code",
   "execution_count": null,
   "id": "a9f98b29",
   "metadata": {},
   "outputs": [],
   "source": [
    "#set same order to compare values\n",
    "fdf_new = pd.DataFrame(fdf_new.sort_values(by=['origin','destination']))\n",
    "synth_fdf_exp = synth_fdf_exp.sort_values(by=['origin','destination'])\n",
    "synth_fdf_pow = synth_fdf_pow.sort_values(by=['origin','destination'])"
   ]
  },
  {
   "cell_type": "code",
   "execution_count": null,
   "id": "f7e2129e",
   "metadata": {},
   "outputs": [],
   "source": [
    "len(fdf_new.flow),len(synth_fdf_exp.flow)"
   ]
  },
  {
   "cell_type": "markdown",
   "id": "549ad97f",
   "metadata": {},
   "source": [
    "### model selection"
   ]
  },
  {
   "cell_type": "code",
   "execution_count": null,
   "id": "70be88d0",
   "metadata": {},
   "outputs": [],
   "source": [
    "#common part of commuters\n",
    "print('pow',skmob.measures.evaluation.common_part_of_commuters(fdf_new.flow.values, synth_fdf_pow.flow.values))\n",
    "print('exp',skmob.measures.evaluation.common_part_of_commuters(fdf_new.flow.values, synth_fdf_exp.flow.values))"
   ]
  },
  {
   "cell_type": "code",
   "execution_count": null,
   "id": "bb70116a",
   "metadata": {},
   "outputs": [],
   "source": [
    "#pearson correlation\n",
    "print('pow',linregress(fdf_new.flow.values, synth_fdf_pow.flow.values).rvalue)\n",
    "print('exp',linregress(fdf_new.flow.values, synth_fdf_exp.flow.values).rvalue)\n"
   ]
  },
  {
   "cell_type": "code",
   "execution_count": null,
   "id": "a6b5056c",
   "metadata": {},
   "outputs": [],
   "source": [
    "fig,ax=plt.subplots(figsize=(4,4))\n",
    "print(linregress(fdf_new.flow.values, synth_fdf_exp.flow.values).rvalue)\n",
    "plt.loglog(fdf_new.flow.values, synth_fdf_exp.flow.values,'o',lw=0,markersize=1)\n",
    "plt.loglog([1,100000],[1,100000],lw=1,color='k',ls='--')\n",
    "plt.xlabel('data')\n",
    "plt.ylabel('gravity model exp')"
   ]
  },
  {
   "cell_type": "markdown",
   "id": "51ebda0c",
   "metadata": {},
   "source": [
    "## Radiation model"
   ]
  },
  {
   "cell_type": "code",
   "execution_count": null,
   "id": "6302b6da",
   "metadata": {},
   "outputs": [],
   "source": [
    "from skmob.models import radiation\n",
    "rad_model = radiation.Radiation()\n",
    "synth_fdf_rad = rad_model.generate(tessellation,\n",
    "                                        tile_id_column='tile_ID',\n",
    "                                        tot_outflows_column='tot_outflow',\n",
    "                                        relevance_column= 'population',\n",
    "                                        out_format='flows')\n",
    "synth_fdf_rad = pd.DataFrame(synth_fdf_rad.sort_values(by=['origin','destination']))\n"
   ]
  },
  {
   "cell_type": "code",
   "execution_count": null,
   "id": "9ba2640c",
   "metadata": {},
   "outputs": [],
   "source": [
    "missing_flows = []\n",
    "for ori in places:\n",
    "    for dest in places:\n",
    "        if ((synth_fdf_rad['origin'] == ori) & (synth_fdf_rad['destination'] == dest)).any() == False:\n",
    "            missing_flows.append([0,ori,dest])\n",
    "\n",
    "\n",
    "\n",
    "#add missing routes to radiation modelled flows, for comparison\n",
    "nr = pd.DataFrame(missing_flows,columns=['flow', 'origin', 'destination'])\n",
    "synth_fdf_new = pd.concat([synth_fdf_rad, nr])\n",
    "#remove internal mobility\n",
    "synth_fdf_rad = synth_fdf_new[synth_fdf_new.origin!=synth_fdf_new.destination]"
   ]
  },
  {
   "cell_type": "code",
   "execution_count": null,
   "id": "d6a80b90",
   "metadata": {},
   "outputs": [],
   "source": [
    "fig,axes = plt.subplots(ncols=3,nrows=1,figsize=(12,4))\n",
    "ax=axes.flat[0]\n",
    "for line in fdf.iterrows():\n",
    "    orig = line[1].origin\n",
    "    dest = line[1].destination\n",
    "    flow = line[1].flow / 100000\n",
    "    #print(flow)\n",
    "    x1 = points[orig].x\n",
    "    y1 = points[orig].y\n",
    "    x2 = points[dest].x\n",
    "    y2 = points[dest].y\n",
    "    ax.plot([x1,x2],[y1, y2], '#c1121f',linewidth=flow)\n",
    "    ax.set_title('data')\n",
    "    ax.axis('off')\n",
    "    \n",
    "ax=axes.flat[1]\n",
    "for line in synth_fdf_exp.iterrows():\n",
    "    orig = line[1].origin\n",
    "    dest = line[1].destination\n",
    "    flow = line[1].flow / 100000\n",
    "    #print(flow)\n",
    "    x1 = points[orig].x\n",
    "    y1 = points[orig].y\n",
    "    x2 = points[dest].x\n",
    "    y2 = points[dest].y\n",
    "    ax.plot([x1,x2],[y1, y2], '#c1121f',linewidth=flow)\n",
    "    ax.set_title('gravity exp')\n",
    "    ax.axis('off')\n",
    "\n",
    "ax=axes.flat[2]\n",
    "for line in synth_fdf_rad.iterrows():\n",
    "    orig = line[1].origin\n",
    "    dest = line[1].destination\n",
    "    flow = line[1].flow / 100000\n",
    "    #print(flow)\n",
    "    x1 = points[orig].x\n",
    "    y1 = points[orig].y\n",
    "    x2 = points[dest].x\n",
    "    y2 = points[dest].y\n",
    "    ax.plot([x1,x2],[y1, y2], '#c1121f',linewidth=flow)\n",
    "    ax.set_title('radiation')\n",
    "    ax.axis('off')\n"
   ]
  },
  {
   "cell_type": "markdown",
   "id": "bb07ba0d",
   "metadata": {},
   "source": [
    "### model selection"
   ]
  },
  {
   "cell_type": "code",
   "execution_count": null,
   "id": "80e57176",
   "metadata": {},
   "outputs": [],
   "source": [
    "#common part of commuters\n",
    "print('rad',skmob.measures.evaluation.common_part_of_commuters(fdf_new.flow.values, synth_fdf_rad.flow.values))\n",
    "print('exp',skmob.measures.evaluation.common_part_of_commuters(fdf_new.flow.values, synth_fdf_exp.flow.values))"
   ]
  },
  {
   "cell_type": "code",
   "execution_count": null,
   "id": "81005462",
   "metadata": {},
   "outputs": [],
   "source": [
    "#pearson correlation\n",
    "print('rad',linregress(fdf_new.flow.values, synth_fdf_rad.flow.values).rvalue)\n",
    "print('exp',linregress(fdf_new.flow.values, synth_fdf_exp.flow.values).rvalue)"
   ]
  },
  {
   "cell_type": "code",
   "execution_count": null,
   "id": "e21de857",
   "metadata": {},
   "outputs": [],
   "source": [
    "fig,ax=plt.subplots(figsize=(4,4))\n",
    "plt.loglog(fdf_new.flow.values, synth_fdf_rad.flow.values,'o',lw=0,markersize=1)\n",
    "plt.loglog([1,100000],[1,100000],lw=1,color='k',ls='--')\n",
    "plt.xlabel('data')\n",
    "plt.ylabel('radiation model')"
   ]
  },
  {
   "cell_type": "code",
   "execution_count": null,
   "id": "b1f89831",
   "metadata": {},
   "outputs": [],
   "source": []
  }
 ],
 "metadata": {
  "kernelspec": {
   "display_name": "Python 3 (ipykernel)",
   "language": "python",
   "name": "python3"
  },
  "language_info": {
   "codemirror_mode": {
    "name": "ipython",
    "version": 3
   },
   "file_extension": ".py",
   "mimetype": "text/x-python",
   "name": "python",
   "nbconvert_exporter": "python",
   "pygments_lexer": "ipython3",
   "version": "3.10.11"
  }
 },
 "nbformat": 4,
 "nbformat_minor": 5
}
