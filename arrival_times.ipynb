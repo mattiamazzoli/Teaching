{
 "cells": [
  {
   "cell_type": "code",
   "execution_count": null,
   "id": "948adf1a",
   "metadata": {},
   "outputs": [],
   "source": [
    "from matplotlib import *\n",
    "from __future__ import division\n",
    "%matplotlib inline\n",
    "import pandas as pd\n",
    "import numpy as np\n",
    "import csv\n",
    "from matplotlib import pyplot as plt\n",
    "import networkx as nx\n",
    "import geopandas as gpd\n",
    "\n",
    "import shapely\n",
    "import warnings\n",
    "from shapely.errors import ShapelyDeprecationWarning\n",
    "warnings.filterwarnings(\"ignore\", category=ShapelyDeprecationWarning) \n",
    "from scipy.stats import linregress, spearmanr, chi2\n"
   ]
  },
  {
   "cell_type": "markdown",
   "id": "5df4c996",
   "metadata": {},
   "source": [
    "### download the shapefile \n",
    "https://www.census.gov/geographies/mapping-files/time-series/geo/carto-boundary-file.html   \n",
    "choose the States map"
   ]
  },
  {
   "cell_type": "code",
   "execution_count": null,
   "id": "ca6ea5e0",
   "metadata": {},
   "outputs": [],
   "source": [
    "us = gpd.read_file('Origin_and_Destination_Survey_DB1BCoupon_2014_1/us-state-boundaries.geojson')"
   ]
  },
  {
   "cell_type": "code",
   "execution_count": null,
   "id": "b86ca29d",
   "metadata": {},
   "outputs": [],
   "source": [
    "us.head()"
   ]
  },
  {
   "cell_type": "markdown",
   "id": "bd2a588b",
   "metadata": {},
   "source": [
    "download the US airports IATA codes at https://davidmegginson.github.io/ourairports-data/   \n",
    "choose airports.csv"
   ]
  },
  {
   "cell_type": "code",
   "execution_count": null,
   "id": "3530f1f5",
   "metadata": {},
   "outputs": [],
   "source": [
    "cod = pd.read_csv('Origin_and_Destination_Survey_DB1BCoupon_2014_1/airports.csv', sep=',')\n",
    "cod = cod[cod['iso_country']=='US']\n",
    "cod = cod[pd.isna(cod.iata_code)==False]\n",
    "codes = dict(zip(cod['iata_code'],cod['municipality']))\n",
    "#cod.drop_duplicates('Airport Name', keep='first')\n",
    "cod['pos'] = cod[['longitude_deg', 'latitude_deg']].values.tolist()\n",
    "pos = dict(zip(cod['municipality'],cod['pos']))"
   ]
  },
  {
   "cell_type": "markdown",
   "id": "8797cb8d",
   "metadata": {},
   "source": [
    "### download the origin-destination air travels from    \n",
    "https://transtats.bts.gov/PREZIP/Origin_and_Destination_Survey_DB1BCoupon_{year}_{quarter}.zip  \n",
    "replace {year} and {quarter} in the URL"
   ]
  },
  {
   "cell_type": "code",
   "execution_count": null,
   "id": "88baab28",
   "metadata": {},
   "outputs": [],
   "source": [
    "df = pd.read_csv('Origin_and_Destination_Survey_DB1BCoupon_2014_1/Origin_and_Destination_Survey_DB1BCoupon_2014_1.csv',)\n",
    "df = df[['Year','Origin','OriginCountry','OriginState','Dest','DestCountry','DestState','Passengers','Distance']]\n",
    "df = df[(df.Origin.isin(codes))&(df.Dest.isin(codes))]"
   ]
  },
  {
   "cell_type": "code",
   "execution_count": null,
   "id": "dbc7f886",
   "metadata": {},
   "outputs": [],
   "source": [
    "df['OrigCity'] = df['Origin'].apply(lambda x: codes[x])\n",
    "df['DestCity'] = df['Dest'].apply(lambda x: codes[x])"
   ]
  },
  {
   "cell_type": "code",
   "execution_count": null,
   "id": "85387f12",
   "metadata": {},
   "outputs": [],
   "source": [
    "df.head()"
   ]
  },
  {
   "cell_type": "markdown",
   "id": "c46e6308",
   "metadata": {},
   "source": [
    "sum all trips from i to j"
   ]
  },
  {
   "cell_type": "code",
   "execution_count": null,
   "id": "d2421740",
   "metadata": {},
   "outputs": [],
   "source": [
    "entr = df.groupby(['OrigCity','DestCity'])['Passengers'].sum()\n"
   ]
  },
  {
   "cell_type": "code",
   "execution_count": null,
   "id": "19eb330d",
   "metadata": {},
   "outputs": [],
   "source": [
    "airports = set(df.OrigCity.unique()).union(set(df.DestCity.unique()))"
   ]
  },
  {
   "cell_type": "markdown",
   "id": "e5ba0322",
   "metadata": {},
   "source": [
    "### define fraction of passengers from origin traveling to each destination"
   ]
  },
  {
   "cell_type": "code",
   "execution_count": null,
   "id": "2610b997",
   "metadata": {},
   "outputs": [],
   "source": [
    "OD_matrix = entr.to_frame().reset_index()\n",
    "tot_outflows = OD_matrix.groupby...\n",
    "OD_matrix = OD_matrix.merge(tot_outflows, left_on='OrigCity', right_on='OrigCity').rename(columns={'Passengers_x': 'Passengers','Passengers_y': 'outPassengers'})\n",
    "OD_matrix['fraction_passengers'] = ..."
   ]
  },
  {
   "cell_type": "markdown",
   "id": "89e623ff",
   "metadata": {},
   "source": [
    "### define the effective distance"
   ]
  },
  {
   "cell_type": "markdown",
   "id": "06613ec2",
   "metadata": {},
   "source": [
    "Effective distance is defined as $d_{ij} = 1 - logP_{ij}$  \n",
    "where $P_{ij}$ is the fraction of passengers from i moving to j"
   ]
  },
  {
   "cell_type": "code",
   "execution_count": null,
   "id": "74f196a9",
   "metadata": {},
   "outputs": [],
   "source": [
    "OD_matrix['effective_length'] = ..."
   ]
  },
  {
   "cell_type": "markdown",
   "id": "b9f828fb",
   "metadata": {},
   "source": [
    "### draw network of passengers flows"
   ]
  },
  {
   "cell_type": "markdown",
   "id": "47acaee0",
   "metadata": {},
   "source": [
    "here, airports are nodes, link weights are the number of passengers"
   ]
  },
  {
   "cell_type": "code",
   "execution_count": null,
   "id": "e5a59bee",
   "metadata": {},
   "outputs": [],
   "source": [
    "G = nx.DiGraph()\n",
    "G.add_nodes_from(airports)\n",
    "for row in OD_matrix.iterrows():\n",
    "    i = (row[1].OrigCity)\n",
    "    d = (row[1].DestCity)\n",
    "    flow = (row[1].Passengers)\n",
    "    G.add_edge(i,d,weight=flow)"
   ]
  },
  {
   "cell_type": "code",
   "execution_count": null,
   "id": "4675e330",
   "metadata": {},
   "outputs": [],
   "source": [
    "widths = nx.get_edge_attributes(G, 'weight')\n",
    "nodelist = G.nodes()\n",
    "\n",
    "fig,ax = plt.subplots(figsize=(12,8))\n",
    "\n",
    "us.plot(ax=ax,facecolor='#faedcd')\n",
    "nx.draw_networkx_nodes(G,pos,\n",
    "                       nodelist=nodelist,\n",
    "                       node_size=3,\n",
    "                       node_color='black',\n",
    "                       alpha=0.7);\n",
    "nx.draw_networkx_edges(G,pos,\n",
    "                       edgelist = widths.keys(),\n",
    "                       width=np.array(list(widths.values()))/80000,\n",
    "                       edge_color='#219ebc',\n",
    "                       alpha=1,arrows=False);\n",
    "\n",
    "ax.set_ylim(10,80)\n",
    "ax.set_xlim(-180,-60)\n",
    "plt.axis('off')"
   ]
  },
  {
   "cell_type": "markdown",
   "id": "db19c22c",
   "metadata": {},
   "source": [
    "### draw network with effective length between airports"
   ]
  },
  {
   "cell_type": "markdown",
   "id": "36f9483e",
   "metadata": {},
   "source": [
    "here link weights is the effective distance"
   ]
  },
  {
   "cell_type": "code",
   "execution_count": null,
   "id": "bf744968",
   "metadata": {},
   "outputs": [],
   "source": [
    "G = nx.DiGraph()\n",
    "G.add_nodes_from(airports)\n",
    "for row in OD_matrix.iterrows():\n",
    "    i = (row[1].OrigCity)\n",
    "    d = (row[1].DestCity)\n",
    "    flow = (row[1].effective_length)\n",
    "    G.add_edge(i,d,weight=flow)"
   ]
  },
  {
   "cell_type": "code",
   "execution_count": null,
   "id": "bea8c7f5",
   "metadata": {},
   "outputs": [],
   "source": [
    "widths = nx.get_edge_attributes(G, 'weight')\n",
    "nodelist = G.nodes()\n",
    "\n",
    "fig,ax = plt.subplots(figsize=(12,8))\n",
    "\n",
    "us.plot(ax=ax,facecolor='#faedcd')\n",
    "nx.draw_networkx_nodes(G,pos,\n",
    "                       nodelist=nodelist,\n",
    "                       node_size=3,\n",
    "                       node_color='black',\n",
    "                       alpha=0.7);\n",
    "nx.draw_networkx_edges(G,pos,\n",
    "                       edgelist = widths.keys(),\n",
    "                       width=np.fromiter(widths.values(), dtype=float)/500,\n",
    "                       edge_color='#f28482',\n",
    "                       alpha=1,arrows=False);\n",
    "\n",
    "ax.set_ylim(10,80)\n",
    "ax.set_xlim(-180,-60)\n",
    "plt.axis('off')"
   ]
  },
  {
   "cell_type": "markdown",
   "id": "1eed3188",
   "metadata": {},
   "source": [
    "### estimate arrival times from given epidemic source using effective distance  \n",
    "use networkx.shortest_path_length"
   ]
  },
  {
   "cell_type": "markdown",
   "id": "92fb320e",
   "metadata": {},
   "source": [
    "arrival times are estimated from the shortest path length measured on the effective distance network  \n",
    "$\\Large D_{ij} = min_\\Gamma \\lambda(\\Gamma_{ij})$  \n",
    "where $\\Gamma_{ij}$ is the path from i to j on the effective distance network and $\\lambda$ is the path length"
   ]
  },
  {
   "cell_type": "code",
   "execution_count": null,
   "id": "0ef9ed96",
   "metadata": {},
   "outputs": [],
   "source": [
    "from networkx.algorithms.shortest_paths.generic import shortest_path"
   ]
  },
  {
   "cell_type": "code",
   "execution_count": null,
   "id": "847b0824",
   "metadata": {},
   "outputs": [],
   "source": [
    "#decide the source of the epidemic\n",
    "source_1 = 'New York'\n",
    "\n",
    "#compute arrival times with the effective distance\n",
    "arrival_times_1 = ...\n",
    "\n",
    "\n",
    "G_at = nx.DiGraph()\n",
    "G_at.add_nodes_from(airports)\n",
    "nodelist_at = G_at.nodes()\n",
    "cmap = cm.Accent\n",
    "max_at = 20 #max(arrival_times.values())\n",
    "\n",
    "fig,ax = plt.subplots(figsize=(12,8))\n",
    "\n",
    "us.plot(ax=ax,facecolor='#faedcd')\n",
    "nx.draw_networkx_nodes(G_at,pos,\n",
    "                       nodelist=nodelist_at,\n",
    "                       node_size=20,\n",
    "                       node_color=cmap(np.fromiter(arrival_times_1.values(), dtype=float)/max_at),\n",
    "                       alpha=0.7);\n",
    "\n",
    "ax.scatter(pos[source_1][0],pos[source_1][1],marker='*',s=150,color='green')\n",
    "\n",
    "ax.set_ylim(10,80)\n",
    "ax.set_xlim(-180,-60)\n",
    "plt.axis('off')\n",
    "sm = plt.cm.ScalarMappable(cmap=cmap, norm=plt.Normalize(vmin = 0, vmax=max_at))\n",
    "plt.colorbar(sm,shrink=0.4,label='arrival time',pad=-.01)"
   ]
  },
  {
   "cell_type": "markdown",
   "id": "502494b0",
   "metadata": {},
   "source": [
    "## travel bans  \n",
    "create new column with new flows cut by 50% from source to all destinations  \n",
    "recompute effective length  \n",
    "see difference in arrival times"
   ]
  },
  {
   "cell_type": "code",
   "execution_count": null,
   "id": "8f10c5f9",
   "metadata": {},
   "outputs": [],
   "source": [
    "ban_fraction = #value from 0 to 1\n",
    "OD_matrix['fraction_passengers_with_ban'] = OD_matrix[['Passengers','outPassengers','OrigCity']].apply(lambda x: ...\n",
    "OD_matrix['effective_length_with_ban'] = OD_matrix['fraction_passengers_with_ban'].apply(lambda x: ...\n"
   ]
  },
  {
   "cell_type": "code",
   "execution_count": null,
   "id": "29d14551",
   "metadata": {},
   "outputs": [],
   "source": [
    "\n",
    "G2 = nx.DiGraph()\n",
    "G2.add_nodes_from(airports)\n",
    "for row in OD_matrix.iterrows():\n",
    "    i = (row[1].OrigCity)\n",
    "    d = (row[1].DestCity)\n",
    "    flow = (row[1].effective_length_with_ban)\n",
    "    G2.add_edge(i,d,weight=flow)"
   ]
  },
  {
   "cell_type": "code",
   "execution_count": null,
   "id": "0197ad9b",
   "metadata": {},
   "outputs": [],
   "source": [
    "#decide the source of the epidemic\n",
    "\n",
    "#compute arrival times with the effective distance\n",
    "arrival_times_2 = ...\n",
    "\n",
    "G_at = nx.DiGraph()\n",
    "G_at.add_nodes_from(airports)\n",
    "nodelist_at = G_at.nodes()\n",
    "\n",
    "fig,ax = plt.subplots(figsize=(12,8))\n",
    "\n",
    "us.plot(ax=ax,facecolor='#faedcd')\n",
    "nx.draw_networkx_nodes(G_at,pos,\n",
    "                       nodelist=nodelist_at,\n",
    "                       node_size=20,\n",
    "                       node_color=cmap(np.fromiter(arrival_times_2.values(), dtype=float)/max_at),\n",
    "                       alpha=0.7);\n",
    "\n",
    "ax.scatter(pos[source_1][0],pos[source_1][1],marker='*',s=150,color='green')\n",
    "\n",
    "ax.set_ylim(10,80)\n",
    "ax.set_xlim(-180,-60)\n",
    "plt.axis('off')\n",
    "sm = plt.cm.ScalarMappable(cmap=cmap, norm=plt.Normalize(vmin = 0, vmax=max_at))\n",
    "plt.colorbar(sm,shrink=0.4,label='arrival time',pad=-.01)"
   ]
  },
  {
   "cell_type": "markdown",
   "id": "2d26fba5",
   "metadata": {},
   "source": [
    "### plot the two arrival times , with vs without travel bans\n",
    "scatter plot"
   ]
  },
  {
   "cell_type": "code",
   "execution_count": null,
   "id": "242c70f6",
   "metadata": {},
   "outputs": [],
   "source": [
    "fig,ax=plt.subplots()\n",
    "ax.plot([0,25],[0,25],lw=1,ls='--',zorder=0);\n",
    "...\n",
    "plt.xlabel('arrival times')\n",
    "plt.ylabel('arrival times with travel bans')"
   ]
  },
  {
   "cell_type": "markdown",
   "id": "9912ef61",
   "metadata": {},
   "source": [
    "### plot difference in arrival times with banned fraction of trips from the source  \n",
    "what was the delay in arrival times with flows cut by w  \n",
    "From Gautreau et al:  \n",
    "$\\Large \\langle t_{arr,TR} \\rangle - \\langle t_{arrival} \\rangle \\simeq  -log (w) $ "
   ]
  },
  {
   "cell_type": "code",
   "execution_count": null,
   "id": "6347666b",
   "metadata": {},
   "outputs": [],
   "source": [
    "plt.scatter(np.arange(len(at1)),np.array(list(at2.values())) - np.array(list(at1.values())))\n",
    "w = ban_fraction\n",
    "plt.axhline(-np.log(1-w))"
   ]
  },
  {
   "cell_type": "markdown",
   "id": "06d08fa4",
   "metadata": {},
   "source": [
    "### now try placing the epidemic source in another airport and see the differences in arrival times  \n",
    "1) try peripheral vs central nodes  \n",
    "2) east coast vs west coast  \n",
    "3) islands"
   ]
  },
  {
   "cell_type": "code",
   "execution_count": null,
   "id": "7eec7763",
   "metadata": {},
   "outputs": [],
   "source": []
  }
 ],
 "metadata": {
  "kernelspec": {
   "display_name": "Python 3 (ipykernel)",
   "language": "python",
   "name": "python3"
  },
  "language_info": {
   "codemirror_mode": {
    "name": "ipython",
    "version": 3
   },
   "file_extension": ".py",
   "mimetype": "text/x-python",
   "name": "python",
   "nbconvert_exporter": "python",
   "pygments_lexer": "ipython3",
   "version": "3.10.11"
  }
 },
 "nbformat": 4,
 "nbformat_minor": 5
}
