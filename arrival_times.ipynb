{
 "cells": [
  {
   "cell_type": "code",
   "execution_count": null,
   "id": "948adf1a",
   "metadata": {},
   "outputs": [],
   "source": [
    "from matplotlib import *\n",
    "from __future__ import division\n",
    "%matplotlib inline\n",
    "import pandas as pd\n",
    "import numpy as np\n",
    "import csv\n",
    "from matplotlib import pyplot as plt\n",
    "import networkx as nx\n",
    "import geopandas as gpd\n",
    "\n",
    "import shapely\n",
    "import warnings\n",
    "from shapely.errors import ShapelyDeprecationWarning\n",
    "warnings.filterwarnings(\"ignore\", category=ShapelyDeprecationWarning) \n",
    "from scipy.stats import linregress, spearmanr, chi2\n"
   ]
  },
  {
   "cell_type": "markdown",
   "id": "5df4c996",
   "metadata": {},
   "source": [
    "download the shapefile at https://www.census.gov/geographies/mapping-files/time-series/geo/carto-boundary-file.html   \n",
    "choose the States map"
   ]
  },
  {
   "cell_type": "code",
   "execution_count": null,
   "id": "ca6ea5e0",
   "metadata": {},
   "outputs": [],
   "source": [
    "us = gpd.read_file('Origin_and_Destination_Survey_DB1BCoupon_2014_1/us-state-boundaries.geojson')"
   ]
  },
  {
   "cell_type": "code",
   "execution_count": null,
   "id": "b86ca29d",
   "metadata": {},
   "outputs": [],
   "source": [
    "us.head()"
   ]
  },
  {
   "cell_type": "markdown",
   "id": "bd2a588b",
   "metadata": {},
   "source": [
    "download the US airports IATA codes at https://davidmegginson.github.io/ourairports-data/   \n",
    "choose airports.csv"
   ]
  },
  {
   "cell_type": "code",
   "execution_count": null,
   "id": "3530f1f5",
   "metadata": {},
   "outputs": [],
   "source": [
    "cod = pd.read_csv('Origin_and_Destination_Survey_DB1BCoupon_2014_1/airports.csv', sep=',')\n",
    "cod = cod[cod['iso_country']=='US']\n",
    "cod = cod[pd.isna(cod.iata_code)==False]\n",
    "codes = dict(zip(cod['iata_code'],cod['municipality']))\n",
    "#cod.drop_duplicates('Airport Name', keep='first')\n",
    "cod['pos'] = cod[['longitude_deg', 'latitude_deg']].values.tolist()\n",
    "pos = dict(zip(cod['municipality'],cod['pos']))"
   ]
  },
  {
   "cell_type": "markdown",
   "id": "8797cb8d",
   "metadata": {},
   "source": [
    "download the origin-destination air travels from    \n",
    "https://transtats.bts.gov/PREZIP/Origin_and_Destination_Survey_DB1BCoupon_{year}_{quarter}.zip"
   ]
  },
  {
   "cell_type": "code",
   "execution_count": null,
   "id": "88baab28",
   "metadata": {},
   "outputs": [],
   "source": [
    "df = pd.read_csv('Origin_and_Destination_Survey_DB1BCoupon_2014_1/Origin_and_Destination_Survey_DB1BCoupon_2014_1.csv',)\n",
    "df = df[['Year','Origin','OriginCountry','OriginState','Dest','DestCountry','DestState','Passengers','Distance']]\n",
    "df = df[(df.Origin.isin(codes))&(df.Dest.isin(codes))]"
   ]
  },
  {
   "cell_type": "code",
   "execution_count": null,
   "id": "dbc7f886",
   "metadata": {},
   "outputs": [],
   "source": [
    "df['OrigCity'] = df['Origin'].apply(lambda x: codes[x])\n",
    "df['DestCity'] = df['Dest'].apply(lambda x: codes[x])"
   ]
  },
  {
   "cell_type": "code",
   "execution_count": null,
   "id": "85387f12",
   "metadata": {},
   "outputs": [],
   "source": [
    "df.head()"
   ]
  },
  {
   "cell_type": "code",
   "execution_count": null,
   "id": "d2421740",
   "metadata": {},
   "outputs": [],
   "source": [
    "entr = df.groupby(['OrigCity','DestCity'])['Passengers'].sum()\n"
   ]
  },
  {
   "cell_type": "code",
   "execution_count": null,
   "id": "9e6d612e",
   "metadata": {},
   "outputs": [],
   "source": [
    "\n",
    "plt.hist(entr,bins=30);\n",
    "\n"
   ]
  },
  {
   "cell_type": "code",
   "execution_count": null,
   "id": "19eb330d",
   "metadata": {},
   "outputs": [],
   "source": [
    "airports = set(df.OrigCity.unique()).union(set(df.DestCity.unique()))"
   ]
  },
  {
   "cell_type": "code",
   "execution_count": null,
   "id": "2610b997",
   "metadata": {},
   "outputs": [],
   "source": [
    "OD_matrix = entr.to_frame().reset_index()\n",
    "tot_outflows = OD_matrix.groupby(by='OrigCity', axis=0)[['Passengers']].sum().fillna(0)\n",
    "OD_matrix = OD_matrix.merge(tot_outflows, left_on='OrigCity', right_on='OrigCity').rename(columns={'Passengers_x': 'Passengers','Passengers_y': 'outPassengers'})\n",
    "OD_matrix['fraction_passengers'] = OD_matrix.Passengers/OD_matrix.outPassengers"
   ]
  },
  {
   "cell_type": "code",
   "execution_count": null,
   "id": "74f196a9",
   "metadata": {},
   "outputs": [],
   "source": [
    "OD_matrix['effective_length'] = OD_matrix['fraction_passengers'].apply(lambda x: 1-np.log(x))"
   ]
  },
  {
   "cell_type": "markdown",
   "id": "b9f828fb",
   "metadata": {},
   "source": [
    "### draw network of passengers flows"
   ]
  },
  {
   "cell_type": "code",
   "execution_count": null,
   "id": "e5a59bee",
   "metadata": {},
   "outputs": [],
   "source": [
    "G = nx.DiGraph()\n",
    "G.add_nodes_from(airports)\n",
    "for row in OD_matrix.iterrows():\n",
    "    i = (row[1].OrigCity)\n",
    "    d = (row[1].DestCity)\n",
    "    flow = (row[1].Passengers)/80000\n",
    "    G.add_edge(i,d,weight=flow)"
   ]
  },
  {
   "cell_type": "code",
   "execution_count": null,
   "id": "4675e330",
   "metadata": {},
   "outputs": [],
   "source": [
    "widths = nx.get_edge_attributes(G, 'weight')\n",
    "nodelist = G.nodes()\n",
    "\n",
    "fig,ax = plt.subplots(figsize=(12,8))\n",
    "\n",
    "us.plot(ax=ax,facecolor='#faedcd')\n",
    "nx.draw_networkx_nodes(G,pos,\n",
    "                       nodelist=nodelist,\n",
    "                       node_size=3,\n",
    "                       node_color='black',\n",
    "                       alpha=0.7);\n",
    "nx.draw_networkx_edges(G,pos,\n",
    "                       edgelist = widths.keys(),\n",
    "                       width=list(widths.values()),\n",
    "                       edge_color='#219ebc',\n",
    "                       alpha=1,arrows=False);\n",
    "\n",
    "ax.set_ylim(10,80)\n",
    "ax.set_xlim(-180,-60)\n",
    "plt.axis('off')"
   ]
  },
  {
   "cell_type": "markdown",
   "id": "db19c22c",
   "metadata": {},
   "source": [
    "### draw network with effective length between airports"
   ]
  },
  {
   "cell_type": "code",
   "execution_count": null,
   "id": "bf744968",
   "metadata": {},
   "outputs": [],
   "source": [
    "G = nx.DiGraph()\n",
    "G.add_nodes_from(airports)\n",
    "for row in OD_matrix.iterrows():\n",
    "    i = (row[1].OrigCity)\n",
    "    d = (row[1].DestCity)\n",
    "    flow = (row[1].effective_length)\n",
    "    G.add_edge(i,d,weight=flow)"
   ]
  },
  {
   "cell_type": "code",
   "execution_count": null,
   "id": "bea8c7f5",
   "metadata": {},
   "outputs": [],
   "source": [
    "widths = nx.get_edge_attributes(G, 'weight')\n",
    "nodelist = G.nodes()\n",
    "\n",
    "fig,ax = plt.subplots(figsize=(12,8))\n",
    "\n",
    "us.plot(ax=ax,facecolor='#faedcd')\n",
    "nx.draw_networkx_nodes(G,pos,\n",
    "                       nodelist=nodelist,\n",
    "                       node_size=3,\n",
    "                       node_color='black',\n",
    "                       alpha=0.7);\n",
    "nx.draw_networkx_edges(G,pos,\n",
    "                       edgelist = widths.keys(),\n",
    "                       width=np.fromiter(widths.values(), dtype=float)/500,\n",
    "                       edge_color='#f28482',\n",
    "                       alpha=1,arrows=False);\n",
    "\n",
    "ax.set_ylim(10,80)\n",
    "ax.set_xlim(-180,-60)\n",
    "plt.axis('off')"
   ]
  },
  {
   "cell_type": "markdown",
   "id": "1eed3188",
   "metadata": {},
   "source": [
    "### find effective distance from given epidemic source"
   ]
  },
  {
   "cell_type": "code",
   "execution_count": null,
   "id": "83b58dcc",
   "metadata": {},
   "outputs": [],
   "source": [
    "from networkx.algorithms.shortest_paths.generic import shortest_path\n",
    "from networkx.classes.function import path_weight"
   ]
  },
  {
   "cell_type": "code",
   "execution_count": null,
   "id": "847b0824",
   "metadata": {},
   "outputs": [],
   "source": [
    "#decide the source of the epidemic\n",
    "source_1 = 'Los Alamos'\n",
    "\n",
    "#compute arrival times with the effective distance\n",
    "arrival_times_1 = nx.shortest_path_length(G,source=source_1,weight='weight')\n",
    "arrival_times_1\n",
    "\n",
    "G_at = nx.DiGraph()\n",
    "G_at.add_nodes_from(airports)\n",
    "nodelist_at = G_at.nodes()\n",
    "cmap = cm.Accent\n",
    "max_at = 20 #max(arrival_times.values())\n",
    "\n",
    "fig,ax = plt.subplots(figsize=(12,8))\n",
    "\n",
    "us.plot(ax=ax,facecolor='#faedcd')\n",
    "nx.draw_networkx_nodes(G_at,pos,\n",
    "                       nodelist=nodelist_at,\n",
    "                       node_size=20,\n",
    "                       node_color=cmap(np.fromiter(arrival_times_1.values(), dtype=float)/max_at),\n",
    "                       alpha=0.7);\n",
    "\n",
    "ax.scatter(pos[source_1][0],pos[source_1][1],marker='*',s=150,color='green')\n",
    "\n",
    "ax.set_ylim(10,80)\n",
    "ax.set_xlim(-180,-60)\n",
    "plt.axis('off')\n",
    "sm = plt.cm.ScalarMappable(cmap=cmap, norm=plt.Normalize(vmin = 0, vmax=max_at))\n",
    "plt.colorbar(sm,shrink=0.4,label='arrival time',pad=-.01)"
   ]
  },
  {
   "cell_type": "code",
   "execution_count": null,
   "id": "1dc2c917",
   "metadata": {},
   "outputs": [],
   "source": [
    "#decide the source of the epidemic\n",
    "source_2 = 'New York'\n",
    "\n",
    "#compute arrival times with the effective distance\n",
    "arrival_times_2 = nx.shortest_path_length(G,source=source_2,weight='weight')\n",
    "\n",
    "G_at = nx.DiGraph()\n",
    "G_at.add_nodes_from(airports)\n",
    "nodelist_at = G_at.nodes()\n",
    "\n",
    "fig,ax = plt.subplots(figsize=(12,8))\n",
    "\n",
    "us.plot(ax=ax,facecolor='#faedcd')\n",
    "nx.draw_networkx_nodes(G_at,pos,\n",
    "                       nodelist=nodelist_at,\n",
    "                       node_size=20,\n",
    "                       node_color=cmap(np.fromiter(arrival_times_2.values(), dtype=float)/max_at),\n",
    "                       alpha=0.7);\n",
    "\n",
    "ax.scatter(pos[source_2][0],pos[source_2][1],marker='*',s=150,color='green')\n",
    "\n",
    "ax.set_ylim(10,80)\n",
    "ax.set_xlim(-180,-60)\n",
    "plt.axis('off')\n",
    "sm = plt.cm.ScalarMappable(cmap=cmap, norm=plt.Normalize(vmin = 0, vmax=max_at))\n",
    "plt.colorbar(sm,shrink=0.4,label='arrival time',pad=-.01)"
   ]
  },
  {
   "cell_type": "code",
   "execution_count": null,
   "id": "1cb2a1ee",
   "metadata": {},
   "outputs": [],
   "source": [
    "arrival_times_1"
   ]
  },
  {
   "cell_type": "code",
   "execution_count": null,
   "id": "1bbe16e7",
   "metadata": {},
   "outputs": [],
   "source": [
    "fig,ax=plt.subplots()\n",
    "ax.plot([0,25],[0,25],lw=1,ls='--',zorder=0);\n",
    "at1 = dict(sorted(arrival_times_1.items()))\n",
    "at2 = dict(sorted(arrival_times_2.items()))\n",
    "ax.scatter(at1.values(),at2.values(),s=10,color='#84a59d',zorder=1);\n",
    "\n",
    "plt.xlabel(source_2)\n",
    "plt.ylabel(source_1)"
   ]
  },
  {
   "cell_type": "code",
   "execution_count": null,
   "id": "6d68bda7",
   "metadata": {},
   "outputs": [],
   "source": []
  }
 ],
 "metadata": {
  "kernelspec": {
   "display_name": "Python 3 (ipykernel)",
   "language": "python",
   "name": "python3"
  },
  "language_info": {
   "codemirror_mode": {
    "name": "ipython",
    "version": 3
   },
   "file_extension": ".py",
   "mimetype": "text/x-python",
   "name": "python",
   "nbconvert_exporter": "python",
   "pygments_lexer": "ipython3",
   "version": "3.10.11"
  }
 },
 "nbformat": 4,
 "nbformat_minor": 5
}
