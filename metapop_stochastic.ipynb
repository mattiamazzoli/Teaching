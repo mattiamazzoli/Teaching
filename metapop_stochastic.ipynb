{
 "cells": [
  {
   "cell_type": "code",
   "execution_count": null,
   "id": "8f2909d4",
   "metadata": {},
   "outputs": [],
   "source": [
    "from matplotlib import *\n",
    "from __future__ import division\n",
    "%matplotlib inline\n",
    "import numpy as np\n",
    "from matplotlib import pyplot as plt\n",
    "from scipy.integrate import solve_ivp\n"
   ]
  },
  {
   "cell_type": "markdown",
   "id": "35738bd6",
   "metadata": {},
   "source": [
    "## homogeneous population, deterministic model"
   ]
  },
  {
   "cell_type": "code",
   "execution_count": null,
   "id": "d1d29d36",
   "metadata": {},
   "outputs": [],
   "source": [
    "# set the seeding city\n",
    "seed = 0\n",
    "nseeds = 10\n",
    "\n",
    "# Parameters\n",
    "num_patches = 5 # Number of patches\n",
    "beta = 0.5     # Infection rate\n",
    "gamma = 0.2      # Recovery rate\n",
    "population = 400  # Total population per patch\n",
    "\n",
    "# Time span for simulation\n",
    "t_max = 200\n",
    "t_span = (0, t_max)\n",
    "t_eval = np.linspace(0, t_max, t_max*3)\n",
    "dt = t_eval[1]-t_eval[0]\n",
    "\n",
    "subpopulation_R0 = beta/gamma\n",
    "attack_ratio = population*(1 - np.exp(-subpopulation_R0))\n",
    "print(subpopulation_R0 , attack_ratio)"
   ]
  },
  {
   "cell_type": "code",
   "execution_count": null,
   "id": "4e08b791",
   "metadata": {},
   "outputs": [],
   "source": [
    "#create random matrix of transitions \n",
    "np.random.seed(9001)\n",
    "#let movements between i!=j must be lower than between i=j\n",
    "OD_matrix = np.random.random_integers(low=0, high=0.1 * population / num_patches, size=(num_patches,num_patches))\n",
    "#set diagonal to zero\n",
    "n = OD_matrix.shape[0]\n",
    "OD_matrix[range(n), range(n)] = 0 \n",
    "#flows between i and j must be symmetric, those who go also come back\n",
    "OD_matrix = (OD_matrix+OD_matrix.T)\n",
    "#count how many do not move in each population\n",
    "staying = population - OD_matrix.sum(axis=1)\n",
    "#set movements in the diagonal i = j\n",
    "OD_matrix[range(n), range(n)] = staying\n",
    "#normalize rows to sum to 1, these are rates of transition per population\n",
    "row_sums = OD_matrix.sum(axis=1, keepdims=True)\n",
    "# Transition matrix for mobility between patches (Markovian)\n",
    "P = OD_matrix / row_sums"
   ]
  },
  {
   "cell_type": "code",
   "execution_count": null,
   "id": "c09a7752",
   "metadata": {},
   "outputs": [],
   "source": [
    "staying"
   ]
  },
  {
   "cell_type": "code",
   "execution_count": null,
   "id": "4be7cfb6",
   "metadata": {},
   "outputs": [],
   "source": [
    "OD_matrix"
   ]
  },
  {
   "cell_type": "code",
   "execution_count": null,
   "id": "267ec1e2",
   "metadata": {},
   "outputs": [],
   "source": [
    "OD_matrix.sum(axis=1, keepdims=True)"
   ]
  },
  {
   "cell_type": "code",
   "execution_count": null,
   "id": "454e41ea",
   "metadata": {},
   "outputs": [],
   "source": [
    "P"
   ]
  },
  {
   "cell_type": "code",
   "execution_count": null,
   "id": "40c54f5b",
   "metadata": {},
   "outputs": [],
   "source": [
    "from scipy.stats import binom\n",
    "binom.rvs(100, .2)"
   ]
  },
  {
   "cell_type": "code",
   "execution_count": null,
   "id": "46c392b5",
   "metadata": {},
   "outputs": [],
   "source": [
    "# Force of infection function\n",
    "def force_of_infection(beta, I, P, N):\n",
    "    return ..."
   ]
  },
  {
   "cell_type": "code",
   "execution_count": null,
   "id": "db26ea6b",
   "metadata": {},
   "outputs": [],
   "source": [
    "# Initial conditions (S, I, R for each patch)\n",
    "S0 = np.linspace(population,population, num_patches,dtype=int) # initial susceptible populations\n",
    "S0[seed] -= nseeds   # remove seeds from seed susceptible populations\n",
    "\n",
    "I0 = np.zeros(num_patches,dtype=int) # initial infected populations\n",
    "I0[seed] = nseeds          # seeds\n",
    "R0 = np.zeros(num_patches,dtype=int) # initial recovered populations\n",
    "\n",
    "    \n",
    "#define matrix of results\n",
    "y = np.zeros((num_patches*3, len(t_eval)),dtype=int)\n",
    "\n",
    "y[:num_patches,0] = S0 #top rows\n",
    "y[num_patches:2*num_patches,0] = I0 #middle rows\n",
    "y[2*num_patches:,0] = R0 #bottom rows\n",
    "\n",
    "N = np.array([population] * num_patches)\n",
    "# Matrix to store transitions\n",
    "movementsS = np.zeros_like(P, dtype=int)\n",
    "movementsI = np.zeros_like(P, dtype=int)\n",
    "movementsR = np.zeros_like(P, dtype=int)\n",
    "\n",
    "\n",
    "for t, tempo in enumerate(t_eval[:-1]):\n",
    "    #reset new entries for states compartments\n",
    "    nS, nI, nR = np.zeros(num_patches),np.zeros(num_patches),np.zeros(num_patches)\n",
    "\n",
    "    # Reshape the state vector y into S, I, R for each patch\n",
    "    S = y[:num_patches,t] #top rows\n",
    "    I = y[num_patches:2*num_patches,t] #middle rows\n",
    "    R = y[2*num_patches:,t] #bottom rows\n",
    "    \n",
    "    # Calculate the force of infection for each patch\n",
    "    lambda_i = force_of_infection(beta, I, P, N)\n",
    "    \n",
    "    # Compute the derivatives for each patch\n",
    "    # Reaction\n",
    "    new_infected = binom.rvs(S,lambda_i*dt) \n",
    "    new_recovered = binom.rvs(I,gamma*dt) \n",
    "    \n",
    "    # Diffusion\n",
    "    for i in range(num_patches):\n",
    "        for j in range(len(S0)):\n",
    "            if i != j:  # No self-transition\n",
    "                movementsS[i, j] = binom.rvs(S[i] - new_infected[i], P[i, j]*dt)\n",
    "                movementsI[i, j] = binom.rvs(I[i] + new_infected[i] - new_recovered[i], P[i, j]*dt)\n",
    "                movementsR[i, j] = binom.rvs(R[i] + new_recovered[i], P[i, j]*dt)\n",
    "                \n",
    "    # Compute compartments variations in each population\n",
    "    ns = - new_infected - movementsS.sum(axis=1) + movementsS.sum(axis=0)\n",
    "    ni = ...\n",
    "    nr = ...\n",
    "    \n",
    "    # update lists\n",
    "    y[:num_patches,t+1] += S + ns\n",
    "    y[num_patches:2*num_patches,t+1] += I + ni\n",
    "    y[2*num_patches:,t+1] += R + nr\n",
    "\n",
    "\n",
    "# Extract results\n",
    "S, I, R = y[:num_patches,:], y[num_patches:2*num_patches,:], y[2*num_patches:,:]\n"
   ]
  },
  {
   "cell_type": "code",
   "execution_count": null,
   "id": "92844290",
   "metadata": {},
   "outputs": [],
   "source": [
    "# Plot the results\n",
    "plt.figure(figsize=(10, 6))\n",
    "\n",
    "# Plot Susceptible, Infected, and Recovered over time\n",
    "for i in range(num_patches):\n",
    "    plt.plot(t_eval, I[i], label=f'I{ i+1 } patch')\n",
    "    plt.plot(t_eval, R[i], label=f'R{ i+1 } patch')\n",
    "    #plt.plot(t_eval, S[i]+I[i]+R[i], label=f'R{ i+1 } (Recovered)')\n",
    "\n",
    "plt.xlabel('Time')\n",
    "plt.axhline(attack_ratio,ls='--', color='grey')\n",
    "plt.ylim(0,population+10)\n",
    "plt.ylabel('Active infected')\n",
    "plt.legend(frameon=False)\n",
    "plt.title('Metapopulation SIR Model with Markovian Mobility')\n",
    "plt.grid(True)\n",
    "plt.show()"
   ]
  },
  {
   "cell_type": "code",
   "execution_count": null,
   "id": "4b66609e",
   "metadata": {},
   "outputs": [],
   "source": [
    "final_attack_ratio = R[:,-1]/population\n",
    "print(final_attack_ratio*100, population)"
   ]
  },
  {
   "cell_type": "markdown",
   "id": "a3142af5",
   "metadata": {},
   "source": [
    "## heterogeneous populations"
   ]
  },
  {
   "cell_type": "code",
   "execution_count": null,
   "id": "36a31cba",
   "metadata": {},
   "outputs": [],
   "source": [
    "population = np.array([400,100,400,1000,400])  # Total population per patch\n",
    "S0 = np.array(population, dtype=int)\n",
    "\n",
    "#create random matrix of transitions \n",
    "np.random.seed(9001)\n",
    "#let movements between i!=j must be lower than between i=j\n",
    "OD_matrix = np.random.random_integers(low=0, high=0.5 * min(population) / num_patches, size=(num_patches,num_patches))\n",
    "#set diagonal to zero\n",
    "n = OD_matrix.shape[0]\n",
    "OD_matrix[range(n), range(n)] = 0 \n",
    "#flows between i and j must be symmetric, those who go also come back\n",
    "OD_matrix = (OD_matrix+OD_matrix.T)\n",
    "#count how many do not move in each population\n",
    "staying = population - OD_matrix.sum(axis=1)\n",
    "#set movements in the diagonal i = j\n",
    "OD_matrix[range(n), range(n)] = staying\n",
    "#normalize rows to sum to 1, these are rates of transition per population\n",
    "row_sums = OD_matrix.sum(axis=1, keepdims=True)\n",
    "# Transition matrix for mobility between patches (Markovian)\n",
    "P = OD_matrix / row_sums"
   ]
  },
  {
   "cell_type": "code",
   "execution_count": null,
   "id": "2c23560a",
   "metadata": {},
   "outputs": [],
   "source": [
    "staying"
   ]
  },
  {
   "cell_type": "code",
   "execution_count": null,
   "id": "3837b4ad",
   "metadata": {},
   "outputs": [],
   "source": [
    "OD_matrix"
   ]
  },
  {
   "cell_type": "code",
   "execution_count": null,
   "id": "ff3dfb3c",
   "metadata": {},
   "outputs": [],
   "source": [
    "OD_matrix.sum(axis=1, keepdims=True)"
   ]
  },
  {
   "cell_type": "code",
   "execution_count": null,
   "id": "16b17618",
   "metadata": {},
   "outputs": [],
   "source": [
    "P"
   ]
  },
  {
   "cell_type": "code",
   "execution_count": null,
   "id": "de7da421",
   "metadata": {},
   "outputs": [],
   "source": [
    "\n",
    "subpopulation_R0 = beta/gamma\n",
    "attack_ratio = population*(1 - np.exp(-subpopulation_R0))\n",
    "print(subpopulation_R0 , attack_ratio)\n",
    "\n",
    "# Initial conditions (S, I, R for each patch)\n",
    "S0 = np.array(population, dtype=int) # initial susceptible populations\n",
    "S0[seed] -= nseeds   # remove seeds from seed susceptible populations\n",
    "\n",
    "I0 = np.zeros(num_patches, dtype=int) # initial infected populations\n",
    "I0[seed] = nseeds          # seeds\n",
    "R0 = np.zeros(num_patches, dtype=int) # initial recovered populations\n",
    "\n",
    "    \n",
    "#define matrix of results\n",
    "y = np.zeros((num_patches*3, len(t_eval)),dtype=int)\n",
    "\n",
    "y[:num_patches,0] = S0 #top rows\n",
    "y[num_patches:2*num_patches,0] = I0 #middle rows\n",
    "y[2*num_patches:,0] = R0 #bottom rows\n",
    "\n",
    "N = np.array([population] * num_patches, dtype=int)\n",
    "\n",
    "for t, tempo in enumerate(t_eval[:-1]):\n",
    "    #reset new entries for states compartments\n",
    "    nS, nI, nR = np.zeros(num_patches,dtype=int),np.zeros(num_patches,dtype=int),np.zeros(num_patches,dtype=int)\n",
    "\n",
    "    # Reshape the state vector y into S, I, R for each patch\n",
    "    S = y[:num_patches,t] #top rows\n",
    "    I = y[num_patches:2*num_patches,t] #middle rows\n",
    "    R = y[2*num_patches:,t] #bottom rows\n",
    "    \n",
    "    # Calculate the force of infection for each patch\n",
    "    lambda_i = force_of_infection(beta, I, P, population)\n",
    "    \n",
    "    # Compute the derivatives for each patch\n",
    "    # Reaction\n",
    "    new_infected = binom.rvs(S,lambda_i*dt) \n",
    "    new_recovered = binom.rvs(I,gamma*dt) \n",
    "    \n",
    "    # Diffusion\n",
    "    for i in range(num_patches):\n",
    "        for j in range(len(S0)):\n",
    "            if i != j:  # No self-transition\n",
    "                movementsS[i, j] = binom.rvs(S[i] - new_infected[i], P[i, j]*dt)\n",
    "                movementsI[i, j] = binom.rvs(I[i] + new_infected[i] - new_recovered[i], P[i, j]*dt)\n",
    "                movementsR[i, j] = binom.rvs(R[i] + new_recovered[i], P[i, j]*dt)\n",
    "                \n",
    "    # Compute new population counts\n",
    "    ...\n",
    "    ...\n",
    "    ...\n",
    "    \n",
    "    # update lists\n",
    "    y[:num_patches,t+1] += S + ...\n",
    "    y[num_patches:2*num_patches,t+1] += I + ...\n",
    "    y[2*num_patches:,t+1] += R + ...\n",
    "\n",
    "\n",
    "# Extract results\n",
    "S, I, R = y[:num_patches,:], y[num_patches:2*num_patches,:], y[2*num_patches:,:]\n",
    "\n"
   ]
  },
  {
   "cell_type": "code",
   "execution_count": null,
   "id": "a617ac66",
   "metadata": {},
   "outputs": [],
   "source": [
    "# Plot the results\n",
    "plt.figure(figsize=(10, 6))\n",
    "\n",
    "# Plot Susceptible, Infected, and Recovered over time\n",
    "for i in range(num_patches):\n",
    "    plt.plot(t_eval, I[i], label=f'I{ i+1 } patch')\n",
    "    #plt.plot(t_eval, S[i]+I[i]+R[i], label=f'R{ i+1 } (Recovered)')\n",
    "\n",
    "plt.xlabel('Time')\n",
    "plt.ylabel('Active infected')\n",
    "plt.legend(frameon=False)\n",
    "plt.title('Metapopulation SIR Model with Markovian Mobility')\n",
    "plt.grid(True)\n",
    "plt.show()"
   ]
  },
  {
   "cell_type": "code",
   "execution_count": null,
   "id": "8b538fee",
   "metadata": {},
   "outputs": [],
   "source": [
    "# Plot the results\n",
    "plt.figure(figsize=(10, 6))\n",
    "\n",
    "# Plot Susceptible, Infected, and Recovered over time\n",
    "for i in range(num_patches):\n",
    "    plt.plot(t_eval, I[i], label=f'I{ i+1 } patch')\n",
    "    plt.plot(t_eval, R[i], label=f'R{ i+1 } patch')\n",
    "    plt.axhline(attack_ratio[i],ls='--', color='grey')\n",
    "\n",
    "    #plt.plot(solution.t, S[i]+I[i]+R[i], label=f'R{ i+1 } (Recovered)')\n",
    "\n",
    "plt.xlabel('Time')\n",
    "\n",
    "plt.ylim(0,max(population))\n",
    "plt.ylabel('Active infected')\n",
    "plt.legend(frameon=False)\n",
    "plt.title('Metapopulation SIR Model with Markovian Mobility')\n",
    "plt.grid(True)\n",
    "plt.show()"
   ]
  },
  {
   "cell_type": "code",
   "execution_count": null,
   "id": "98601d00",
   "metadata": {},
   "outputs": [],
   "source": [
    "final_attack_ratio = R[:,-1]/population\n",
    "print(final_attack_ratio*100, population)"
   ]
  },
  {
   "cell_type": "markdown",
   "id": "cade989a",
   "metadata": {},
   "source": [
    "### apply travel bans"
   ]
  },
  {
   "cell_type": "code",
   "execution_count": null,
   "id": "5cc386bc",
   "metadata": {},
   "outputs": [],
   "source": [
    "\n",
    "ban = 0.5 \n",
    "\n",
    "OD_matrix_ban = np.zeros((num_patches, num_patches))\n",
    "\n",
    "for i in range(n):\n",
    "    for j in range(n):\n",
    "        if i!=j:\n",
    "            OD_matrix_ban[i,j] = ...\n",
    "\n",
    "#count how many do not move in each population\n",
    "staying = population - OD_matrix_ban.sum(axis=1)\n",
    "#set movements in the diagonal i = j\n",
    "OD_matrix_ban[range(n), range(n)] = staying\n",
    "            \n",
    "#normalize rows to sum to 1, these are rates of transition per population\n",
    "row_sums = OD_matrix_ban.sum(axis=1, keepdims=True)\n",
    "# Transition matrix for mobility between patches (Markovian)\n",
    "P = OD_matrix_ban / row_sums"
   ]
  },
  {
   "cell_type": "code",
   "execution_count": null,
   "id": "5941280c",
   "metadata": {},
   "outputs": [],
   "source": [
    "P"
   ]
  },
  {
   "cell_type": "code",
   "execution_count": null,
   "id": "6f4fc75c",
   "metadata": {},
   "outputs": [],
   "source": [
    "\n",
    "subpopulation_R0 = beta/gamma\n",
    "attack_ratio = population*(1 - np.exp(-subpopulation_R0))\n",
    "print(subpopulation_R0 , attack_ratio)\n",
    "\n",
    "# Initial conditions (S, I, R for each patch)\n",
    "S0 = np.array(population, dtype=int) # initial susceptible populations\n",
    "S0[seed] -= nseeds   # remove seeds from seed susceptible populations\n",
    "\n",
    "I0 = np.zeros(num_patches, dtype=int) # initial infected populations\n",
    "I0[seed] = nseeds          # seeds\n",
    "R0 = np.zeros(num_patches, dtype=int) # initial recovered populations\n",
    "\n",
    "    \n",
    "#define matrix of results\n",
    "y = np.zeros((num_patches*3, len(t_eval)),dtype=int)\n",
    "\n",
    "y[:num_patches,0] = S0 #top rows\n",
    "y[num_patches:2*num_patches,0] = I0 #middle rows\n",
    "y[2*num_patches:,0] = R0 #bottom rows\n",
    "\n",
    "N = np.array([population] * num_patches, dtype=int)\n",
    "\n",
    "for t, tempo in enumerate(t_eval[:-1]):\n",
    "    #reset new entries for states compartments\n",
    "    nS, nI, nR = np.zeros(num_patches,dtype=int),np.zeros(num_patches,dtype=int),np.zeros(num_patches,dtype=int)\n",
    "\n",
    "    # Reshape the state vector y into S, I, R for each patch\n",
    "    Sc = y[:num_patches,t] #top rows\n",
    "    Ic = y[num_patches:2*num_patches,t] #middle rows\n",
    "    Rc = y[2*num_patches:,t] #bottom rows\n",
    "    \n",
    "    # Calculate the force of infection for each patch\n",
    "    lambda_i = force_of_infection(beta, Ic, P, population)\n",
    "    # Compute the derivatives for each patch\n",
    "    # Reaction\n",
    "    new_infected = binom.rvs(Sc,lambda_i*dt) \n",
    "    new_recovered = binom.rvs(Ic,gamma*dt) \n",
    "    \n",
    "    # Diffusion\n",
    "    for i in range(num_patches):\n",
    "        for j in range(len(S0)):\n",
    "            if i != j:  # No self-transition\n",
    "                movementsS[i, j] = binom.rvs(Sc[i] - new_infected[i], P[i, j]*dt)\n",
    "                movementsI[i, j] = binom.rvs(Ic[i] + new_infected[i] - new_recovered[i], P[i, j]*dt)\n",
    "                movementsR[i, j] = binom.rvs(Rc[i] + new_recovered[i], P[i, j]*dt)\n",
    "                \n",
    "    # Compute new population counts\n",
    "    ...\n",
    "    ...\n",
    "    ...\n",
    "    \n",
    "    # update lists\n",
    "    y[:num_patches,t+1] += Sc + ns\n",
    "    y[num_patches:2*num_patches,t+1] += Ic + ni\n",
    "    y[2*num_patches:,t+1] += Rc + nr\n",
    "\n",
    "\n",
    "# Extract results\n",
    "Sc, Ic, Rc = y[:num_patches,:], y[num_patches:2*num_patches,:], y[2*num_patches:,:]\n",
    "\n"
   ]
  },
  {
   "cell_type": "code",
   "execution_count": null,
   "id": "577c29b7",
   "metadata": {},
   "outputs": [],
   "source": [
    "# Plot the results\n",
    "plt.figure(figsize=(10, 6))\n",
    "\n",
    "# Plot Susceptible, Infected, and Recovered over time\n",
    "for i in range(num_patches):\n",
    "    plt.plot(t_eval, I[i], label=f'I{ i+1 } patch')\n",
    "    plt.plot(t_eval, Ic[i], label=f'Ic{ i+1 } patch')\n",
    "\n",
    "    #plt.plot(solution.t, S[i]+I[i]+R[i], label=f'R{ i+1 } (Recovered)')\n",
    "\n",
    "plt.xlabel('Time')\n",
    "\n",
    "\n",
    "plt.ylabel('Active infected')\n",
    "plt.legend(frameon=False)\n",
    "plt.title('Metapopulation SIR Model with Markovian Mobility')\n",
    "plt.grid(True)\n",
    "plt.show()"
   ]
  },
  {
   "cell_type": "markdown",
   "id": "6033c808",
   "metadata": {},
   "source": [
    "tempo guadagnato grazie alle restrizioni"
   ]
  },
  {
   "cell_type": "code",
   "execution_count": null,
   "id": "c32024d4",
   "metadata": {},
   "outputs": [],
   "source": [
    "for i in range(num_patches):\n",
    "    print('Population #'+str(i), round(t_eval[np.argmax(Ic[i])]-t_eval[np.argmax(I[i])]), 'days')"
   ]
  },
  {
   "cell_type": "markdown",
   "id": "2b63f868",
   "metadata": {},
   "source": [
    "#### verify what happens with subpop R0 < 1  \n",
    "#### verify delay of epidemics when banning 80 - 99% of trips\n",
    "#### compute 95% interval and median of stochastic model"
   ]
  },
  {
   "cell_type": "code",
   "execution_count": null,
   "id": "27f23e15",
   "metadata": {},
   "outputs": [],
   "source": []
  }
 ],
 "metadata": {
  "kernelspec": {
   "display_name": "Python 3 (ipykernel)",
   "language": "python",
   "name": "python3"
  },
  "language_info": {
   "codemirror_mode": {
    "name": "ipython",
    "version": 3
   },
   "file_extension": ".py",
   "mimetype": "text/x-python",
   "name": "python",
   "nbconvert_exporter": "python",
   "pygments_lexer": "ipython3",
   "version": "3.10.11"
  }
 },
 "nbformat": 4,
 "nbformat_minor": 5
}
